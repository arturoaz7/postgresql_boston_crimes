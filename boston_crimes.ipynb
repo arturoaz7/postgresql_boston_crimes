{
 "cells": [
  {
   "cell_type": "markdown",
   "metadata": {},
   "source": [
    "# Boston, MA Crime Reports Database\n",
    "\n",
    "In this project we will setup a PostgreSQL database from scratch and fill it with crime data from a csv file.\n",
    "\n",
    "We will create two user groups:\n",
    "* readonly: Users in this group only have permission to read data.\n",
    "* readwrite: Users in this group have permission to read and modify data but not to delete tables."
   ]
  },
  {
   "cell_type": "markdown",
   "metadata": {},
   "source": [
    "## Creating Database and Schema\n",
    "\n",
    "Let's start by creating a database called crimes_db and a schema called crimes where we will store our tables."
   ]
  },
  {
   "cell_type": "code",
   "execution_count": 1,
   "metadata": {},
   "outputs": [],
   "source": [
    "import psycopg2\n",
    "from sqlalchemy import create_engine\n",
    "conn = psycopg2.connect(dbname = 'postgres', user = 'postgres', password = '123456789')\n",
    "cur = conn.cursor"
   ]
  },
  {
   "cell_type": "code",
   "execution_count": 2,
   "metadata": {},
   "outputs": [],
   "source": [
    "#this cell only clears everything so that we can re-exectue the whole notebook\n",
    "# conn.autocommit = True\n",
    "\n",
    "# try:\n",
    "#     cur.execute('''\n",
    "#         DROP DATABASE IF EXISTS crime_db;\n",
    "#     ''')\n",
    "\n",
    "#     cur.execute('''\n",
    "#         DROP SCHEMA IF EXISTS crimes CASCADE;\n",
    "#     ''')\n",
    "\n",
    "#     cur.execute('''\n",
    "#         DROP TYPE weekday;\n",
    "#     ''')\n",
    "    \n",
    "#     cur.execute('''\n",
    "#         DROP ROLE readonly;\n",
    "#     ''')\n",
    "    \n",
    "#     cur.execute('''\n",
    "#         DROP ROLE readwrite;\n",
    "#     ''')\n",
    "    \n",
    "#     cur.execute('''\n",
    "#         DROP USER data_analyst;\n",
    "#     ''')\n",
    "    \n",
    "#     cur.execute('''\n",
    "#         DROP USER data_scientist;\n",
    "#     ''')\n",
    "        \n",
    "# except:\n",
    "#     pass"
   ]
  },
  {
   "cell_type": "code",
   "execution_count": 3,
   "metadata": {
    "collapsed": false,
    "jupyter": {
     "outputs_hidden": false
    }
   },
   "outputs": [],
   "source": [
    "conn = psycopg2.connect(dbname = 'postgres', user = 'postgres', password = '123456789')\n",
    "cur = conn.cursor()\n",
    "\n",
    "conn.autocommit = True #setting autocommit to true is necessary to create a database\n",
    "\n",
    "cur.execute('''\n",
    "    CREATE DATABASE crime_db;\n",
    "''')\n",
    "\n",
    "conn.close()"
   ]
  },
  {
   "cell_type": "markdown",
   "metadata": {},
   "source": [
    "Now that the crime_db database exists we can connect to it"
   ]
  },
  {
   "cell_type": "code",
   "execution_count": 4,
   "metadata": {
    "collapsed": false,
    "jupyter": {
     "outputs_hidden": false
    }
   },
   "outputs": [],
   "source": [
    "conn = psycopg2.connect(dbname = 'postgres', user = 'postgres', password = '123456789')\n",
    "cur = conn.cursor()\n",
    "\n",
    "conn.autocommit = True #setting autocommit to true is also necessary to create a schema \n",
    "\n",
    "cur.execute('''\n",
    "    CREATE SCHEMA crimes;\n",
    "''')"
   ]
  },
  {
   "cell_type": "markdown",
   "metadata": {},
   "source": [
    "## Exploring the data\n",
    "Now that we have our database and schema, let's explore our data so that we can easily select the right datatypes to use in our table. We can do so by seeing if the values of a column are numeric or text values and by the amount of unique values it has."
   ]
  },
  {
   "cell_type": "code",
   "execution_count": 5,
   "metadata": {
    "collapsed": false,
    "jupyter": {
     "outputs_hidden": false
    }
   },
   "outputs": [
    {
     "name": "stdout",
     "output_type": "stream",
     "text": [
      "(298329, 7)\n"
     ]
    },
    {
     "data": {
      "text/html": [
       "<div>\n",
       "<style scoped>\n",
       "    .dataframe tbody tr th:only-of-type {\n",
       "        vertical-align: middle;\n",
       "    }\n",
       "\n",
       "    .dataframe tbody tr th {\n",
       "        vertical-align: top;\n",
       "    }\n",
       "\n",
       "    .dataframe thead th {\n",
       "        text-align: right;\n",
       "    }\n",
       "</style>\n",
       "<table border=\"1\" class=\"dataframe\">\n",
       "  <thead>\n",
       "    <tr style=\"text-align: right;\">\n",
       "      <th></th>\n",
       "      <th>incident_number</th>\n",
       "      <th>offense_code</th>\n",
       "      <th>description</th>\n",
       "      <th>date</th>\n",
       "      <th>day_of_the_week</th>\n",
       "      <th>lat</th>\n",
       "      <th>long</th>\n",
       "    </tr>\n",
       "  </thead>\n",
       "  <tbody>\n",
       "    <tr>\n",
       "      <th>0</th>\n",
       "      <td>1</td>\n",
       "      <td>619</td>\n",
       "      <td>LARCENY ALL OTHERS</td>\n",
       "      <td>2018-09-02</td>\n",
       "      <td>Sunday</td>\n",
       "      <td>42.357791</td>\n",
       "      <td>-71.139371</td>\n",
       "    </tr>\n",
       "    <tr>\n",
       "      <th>1</th>\n",
       "      <td>2</td>\n",
       "      <td>1402</td>\n",
       "      <td>VANDALISM</td>\n",
       "      <td>2018-08-21</td>\n",
       "      <td>Tuesday</td>\n",
       "      <td>42.306821</td>\n",
       "      <td>-71.060300</td>\n",
       "    </tr>\n",
       "  </tbody>\n",
       "</table>\n",
       "</div>"
      ],
      "text/plain": [
       "   incident_number  offense_code         description        date  \\\n",
       "0                1           619  LARCENY ALL OTHERS  2018-09-02   \n",
       "1                2          1402           VANDALISM  2018-08-21   \n",
       "\n",
       "  day_of_the_week        lat       long  \n",
       "0          Sunday  42.357791 -71.139371  \n",
       "1         Tuesday  42.306821 -71.060300  "
      ]
     },
     "execution_count": 5,
     "metadata": {},
     "output_type": "execute_result"
    }
   ],
   "source": [
    "import pandas as pd\n",
    "df = pd.read_csv('boston.csv')\n",
    "print(df.shape)\n",
    "df.head(2)"
   ]
  },
  {
   "cell_type": "code",
   "execution_count": 6,
   "metadata": {
    "collapsed": false,
    "jupyter": {
     "outputs_hidden": false
    }
   },
   "outputs": [
    {
     "name": "stdout",
     "output_type": "stream",
     "text": [
      "incident_number :  298329\n",
      "offense_code :  219\n",
      "description :  239\n",
      "date :  1177\n",
      "day_of_the_week :  7\n",
      "lat :  18177\n",
      "long :  18177\n"
     ]
    }
   ],
   "source": [
    "for col in df.columns:\n",
    "    print(col, ': ', len(df[col].unique()))"
   ]
  },
  {
   "cell_type": "markdown",
   "metadata": {},
   "source": [
    "We should find the maximum length for the description column."
   ]
  },
  {
   "cell_type": "code",
   "execution_count": 7,
   "metadata": {
    "collapsed": false,
    "jupyter": {
     "outputs_hidden": false
    }
   },
   "outputs": [
    {
     "data": {
      "text/plain": [
       "58"
      ]
     },
     "execution_count": 7,
     "metadata": {},
     "output_type": "execute_result"
    }
   ],
   "source": [
    "df['description'].map(len).max()"
   ]
  },
  {
   "cell_type": "markdown",
   "metadata": {},
   "source": [
    "## Creating the table\n",
    "\n",
    "We will create an enumerated datatype named weekday for the day_of_the_week column because there are only 7 possible values.\n",
    "\n",
    "The primary key will be the incident_number\n",
    "\n",
    "We'll use INTEGER datatype for the incident_number and the offense_code columns.\n",
    "\n",
    "Because the description has a maximum of 58 characters we'll use a VARCHAR (100) datatype. This allows slightly larger values that could be eventually added without wasting too much memory.\n",
    "\n",
    "The date will be represented by the DATE datatype. \n",
    "\n",
    "Lat and long columns will be DECIMAL datatypes"
   ]
  },
  {
   "cell_type": "code",
   "execution_count": 8,
   "metadata": {
    "collapsed": false,
    "jupyter": {
     "outputs_hidden": false
    }
   },
   "outputs": [],
   "source": [
    "cur.execute('''\n",
    "    CREATE TYPE weekday as ENUM('Monday', 'Tuesday', 'Wednesday', 'Thursday','Friday', 'Saturday', 'Sunday');\n",
    "''')\n",
    "\n",
    "cur.execute('''\n",
    "    CREATE TABLE crimes.boston_crimes (\n",
    "        incident_number INTEGER PRIMARY KEY,\n",
    "        offense_code INTEGER,\n",
    "        description VARCHAR(100),\n",
    "        date DATE,\n",
    "        day_of_the_week weekday, \n",
    "        lat DECIMAL,\n",
    "        long DECIMAL\n",
    "    );\n",
    "''')"
   ]
  },
  {
   "cell_type": "markdown",
   "metadata": {},
   "source": [
    "## Loading the data\n",
    "\n",
    "Now that the table is created we can proceed to load the data by using the copy_expert method."
   ]
  },
  {
   "cell_type": "code",
   "execution_count": 9,
   "metadata": {
    "collapsed": false,
    "jupyter": {
     "outputs_hidden": false
    },
    "scrolled": true
   },
   "outputs": [],
   "source": [
    "with open('boston.csv') as f:\n",
    "    cur.copy_expert('''\n",
    "        COPY crimes.boston_crimes FROM STDIN WITH CSV HEADER;''', f)    "
   ]
  },
  {
   "cell_type": "markdown",
   "metadata": {},
   "source": [
    "We can make sure that the table was filled by properly by loading it into a new pandas dataframe  making sure the shape is the same."
   ]
  },
  {
   "cell_type": "code",
   "execution_count": 10,
   "metadata": {
    "collapsed": false,
    "jupyter": {
     "outputs_hidden": false
    }
   },
   "outputs": [
    {
     "name": "stdout",
     "output_type": "stream",
     "text": [
      "(298329, 7)\n"
     ]
    },
    {
     "data": {
      "text/html": [
       "<div>\n",
       "<style scoped>\n",
       "    .dataframe tbody tr th:only-of-type {\n",
       "        vertical-align: middle;\n",
       "    }\n",
       "\n",
       "    .dataframe tbody tr th {\n",
       "        vertical-align: top;\n",
       "    }\n",
       "\n",
       "    .dataframe thead th {\n",
       "        text-align: right;\n",
       "    }\n",
       "</style>\n",
       "<table border=\"1\" class=\"dataframe\">\n",
       "  <thead>\n",
       "    <tr style=\"text-align: right;\">\n",
       "      <th></th>\n",
       "      <th>incident_number</th>\n",
       "      <th>offense_code</th>\n",
       "      <th>description</th>\n",
       "      <th>date</th>\n",
       "      <th>day_of_the_week</th>\n",
       "      <th>lat</th>\n",
       "      <th>long</th>\n",
       "    </tr>\n",
       "  </thead>\n",
       "  <tbody>\n",
       "    <tr>\n",
       "      <th>0</th>\n",
       "      <td>1</td>\n",
       "      <td>619</td>\n",
       "      <td>LARCENY ALL OTHERS</td>\n",
       "      <td>2018-09-02</td>\n",
       "      <td>Sunday</td>\n",
       "      <td>42.357791</td>\n",
       "      <td>-71.139371</td>\n",
       "    </tr>\n",
       "    <tr>\n",
       "      <th>1</th>\n",
       "      <td>2</td>\n",
       "      <td>1402</td>\n",
       "      <td>VANDALISM</td>\n",
       "      <td>2018-08-21</td>\n",
       "      <td>Tuesday</td>\n",
       "      <td>42.306821</td>\n",
       "      <td>-71.060300</td>\n",
       "    </tr>\n",
       "    <tr>\n",
       "      <th>2</th>\n",
       "      <td>3</td>\n",
       "      <td>3410</td>\n",
       "      <td>TOWED MOTOR VEHICLE</td>\n",
       "      <td>2018-09-03</td>\n",
       "      <td>Monday</td>\n",
       "      <td>42.346589</td>\n",
       "      <td>-71.072429</td>\n",
       "    </tr>\n",
       "    <tr>\n",
       "      <th>3</th>\n",
       "      <td>4</td>\n",
       "      <td>3114</td>\n",
       "      <td>INVESTIGATE PROPERTY</td>\n",
       "      <td>2018-09-03</td>\n",
       "      <td>Monday</td>\n",
       "      <td>42.334182</td>\n",
       "      <td>-71.078664</td>\n",
       "    </tr>\n",
       "    <tr>\n",
       "      <th>4</th>\n",
       "      <td>5</td>\n",
       "      <td>3114</td>\n",
       "      <td>INVESTIGATE PROPERTY</td>\n",
       "      <td>2018-09-03</td>\n",
       "      <td>Monday</td>\n",
       "      <td>42.275365</td>\n",
       "      <td>-71.090361</td>\n",
       "    </tr>\n",
       "  </tbody>\n",
       "</table>\n",
       "</div>"
      ],
      "text/plain": [
       "   incident_number  offense_code           description        date  \\\n",
       "0                1           619    LARCENY ALL OTHERS  2018-09-02   \n",
       "1                2          1402             VANDALISM  2018-08-21   \n",
       "2                3          3410   TOWED MOTOR VEHICLE  2018-09-03   \n",
       "3                4          3114  INVESTIGATE PROPERTY  2018-09-03   \n",
       "4                5          3114  INVESTIGATE PROPERTY  2018-09-03   \n",
       "\n",
       "  day_of_the_week        lat       long  \n",
       "0          Sunday  42.357791 -71.139371  \n",
       "1         Tuesday  42.306821 -71.060300  \n",
       "2          Monday  42.346589 -71.072429  \n",
       "3          Monday  42.334182 -71.078664  \n",
       "4          Monday  42.275365 -71.090361  "
      ]
     },
     "execution_count": 10,
     "metadata": {},
     "output_type": "execute_result"
    }
   ],
   "source": [
    "test_df = pd.read_sql('''\n",
    "    SELECT *\n",
    "    FROM crimes.boston_crimes;\n",
    "''', conn)\n",
    "\n",
    "print(test_df.shape)\n",
    "test_df.head()"
   ]
  },
  {
   "cell_type": "markdown",
   "metadata": {},
   "source": [
    "We can see that both dataframes have the same amount of rows (298329) and columns (7)"
   ]
  },
  {
   "cell_type": "markdown",
   "metadata": {},
   "source": [
    "## Now let's revoke all public privileges\n",
    "\n",
    "We revoke all privileges of the public public group on the public schema to ensure that users will not inherit privileges on that schema such as the ability to create tables in the public schema.\n",
    "\n",
    "We also need to revoke all privileges in the newly created schema. Doing this we make sure privileges are not granted by default."
   ]
  },
  {
   "cell_type": "code",
   "execution_count": 11,
   "metadata": {},
   "outputs": [],
   "source": [
    "cur.execute('''\n",
    "    REVOKE ALL ON SCHEMA public FROM public;\n",
    "''')\n",
    "\n",
    "cur.execute('''\n",
    "    REVOKE ALL ON DATABASE crime_db FROM public;\n",
    "''')"
   ]
  },
  {
   "cell_type": "markdown",
   "metadata": {},
   "source": [
    "## Creating readonly group\n",
    "\n",
    "Like we explained any group created will be created with no priviliges at all. Therefore afte creating the readonly group we need to grant them acces to the database, schema and to the select on all the tables in the schema."
   ]
  },
  {
   "cell_type": "code",
   "execution_count": 12,
   "metadata": {},
   "outputs": [],
   "source": [
    "cur.execute('''\n",
    "    CREATE GROUP readonly NOLOGIN;\n",
    "''')\n",
    "\n",
    "cur.execute('''\n",
    "    GRANT CONNECT ON DATABASE crime_db TO readonly;\n",
    "''')\n",
    "\n",
    "cur.execute('''\n",
    "    GRANT USAGE ON SCHEMA crimes TO readonly;\n",
    "''')\n",
    "\n",
    "cur.execute('''\n",
    "    GRANT SELECT ON ALL TABLES IN SCHEMA crimes TO readonly;\n",
    "''')"
   ]
  },
  {
   "cell_type": "markdown",
   "metadata": {},
   "source": [
    "## Creating readwrite group\n",
    "\n",
    "Just like the readonly group we will create a new one with the difference that can also insert, update and delete values on all tables but cannot drop them."
   ]
  },
  {
   "cell_type": "code",
   "execution_count": 13,
   "metadata": {},
   "outputs": [],
   "source": [
    "cur.execute('''\n",
    "    CREATE GROUP readwrite NOLOGIN;\n",
    "''')\n",
    "\n",
    "cur.execute('''\n",
    "    GRANT CONNECT ON DATABASE crime_db TO readwrite;\n",
    "''')\n",
    "\n",
    "cur.execute('''\n",
    "    GRANT USAGE ON SCHEMA crimes TO readwrite;\n",
    "''')\n",
    "\n",
    "cur.execute('''\n",
    "    GRANT SELECT, INSERT, DELETE, UPDATE ON ALL TABLES IN SCHEMA crimes TO readwrite;\n",
    "''')"
   ]
  },
  {
   "cell_type": "markdown",
   "metadata": {},
   "source": [
    "## Creating one user for each group\n",
    "\n",
    "We will create two users:\n",
    "\n",
    "* Data Analyst: with password 'secret1' in the readonly group.\n",
    "\n",
    "\n",
    "* Data Scientist: with password 'secret2' in the readwrite group"
   ]
  },
  {
   "cell_type": "code",
   "execution_count": 14,
   "metadata": {},
   "outputs": [],
   "source": [
    "cur.execute('''\n",
    "    CREATE USER data_analyst WITH PASSWORD 'secret1';\n",
    "''')\n",
    "\n",
    "cur.execute('''\n",
    "    GRANT readonly TO data_analyst;\n",
    "''')"
   ]
  },
  {
   "cell_type": "code",
   "execution_count": 15,
   "metadata": {
    "collapsed": false,
    "jupyter": {
     "outputs_hidden": false
    }
   },
   "outputs": [],
   "source": [
    "cur.execute('''\n",
    "    CREATE USER data_scientist WITH PASSWORD 'secret2';\n",
    "''')\n",
    "\n",
    "cur.execute('''\n",
    "    GRANT readwrite TO data_scientist;\n",
    "''')"
   ]
  },
  {
   "cell_type": "markdown",
   "metadata": {},
   "source": [
    "## Database setup test\n",
    "\n",
    "Let's test the database setup by querying pg_roles table and information_schema.table_privileges.\n",
    "\n",
    "In the pg_roles table we will check database related privileges and for that we will look at the following columns:\n",
    "\n",
    "* rolname: The name of the user / group that the privilege refers to.\n",
    "* rolsuper: Whether this user / group is a super user. It should be set to False on every user / group that we have created.\n",
    "* rolcreaterole: Whether user / group can create users, groups or roles. It should be False on every user / group that we have created.\n",
    "* rolcreatedb: Whether user / group can create databases. It should be False on every user / group that we have created.\n",
    "* rolcanlogin: Whether user / group can login. It should be True on the users and False on the groups that we have created.\n",
    "\n",
    "In the information_schema.table_privileges we will check privileges related to SQL queries on tables. We will list the privileges of each group that we have created."
   ]
  },
  {
   "cell_type": "code",
   "execution_count": 30,
   "metadata": {
    "collapsed": false,
    "jupyter": {
     "outputs_hidden": false
    }
   },
   "outputs": [
    {
     "data": {
      "text/html": [
       "<div>\n",
       "<style scoped>\n",
       "    .dataframe tbody tr th:only-of-type {\n",
       "        vertical-align: middle;\n",
       "    }\n",
       "\n",
       "    .dataframe tbody tr th {\n",
       "        vertical-align: top;\n",
       "    }\n",
       "\n",
       "    .dataframe thead th {\n",
       "        text-align: right;\n",
       "    }\n",
       "</style>\n",
       "<table border=\"1\" class=\"dataframe\">\n",
       "  <thead>\n",
       "    <tr style=\"text-align: right;\">\n",
       "      <th></th>\n",
       "      <th>rolname</th>\n",
       "      <th>rolsuper</th>\n",
       "      <th>rolcreaterole</th>\n",
       "      <th>rolcreatedb</th>\n",
       "      <th>rolcanlogin</th>\n",
       "    </tr>\n",
       "  </thead>\n",
       "  <tbody>\n",
       "    <tr>\n",
       "      <th>0</th>\n",
       "      <td>readonly</td>\n",
       "      <td>False</td>\n",
       "      <td>False</td>\n",
       "      <td>False</td>\n",
       "      <td>False</td>\n",
       "    </tr>\n",
       "    <tr>\n",
       "      <th>1</th>\n",
       "      <td>readwrite</td>\n",
       "      <td>False</td>\n",
       "      <td>False</td>\n",
       "      <td>False</td>\n",
       "      <td>False</td>\n",
       "    </tr>\n",
       "    <tr>\n",
       "      <th>2</th>\n",
       "      <td>data_analyst</td>\n",
       "      <td>False</td>\n",
       "      <td>False</td>\n",
       "      <td>False</td>\n",
       "      <td>True</td>\n",
       "    </tr>\n",
       "    <tr>\n",
       "      <th>3</th>\n",
       "      <td>data_scientist</td>\n",
       "      <td>False</td>\n",
       "      <td>False</td>\n",
       "      <td>False</td>\n",
       "      <td>True</td>\n",
       "    </tr>\n",
       "  </tbody>\n",
       "</table>\n",
       "</div>"
      ],
      "text/plain": [
       "          rolname  rolsuper  rolcreaterole  rolcreatedb  rolcanlogin\n",
       "0        readonly     False          False        False        False\n",
       "1       readwrite     False          False        False        False\n",
       "2    data_analyst     False          False        False         True\n",
       "3  data_scientist     False          False        False         True"
      ]
     },
     "execution_count": 30,
     "metadata": {},
     "output_type": "execute_result"
    }
   ],
   "source": [
    "conn = psycopg2.connect(dbname = 'crime_db', user = 'postgres', password = '123456789')\n",
    "cur = conn.cursor()\n",
    "\n",
    "pg_roles_df = pd.read_sql(\"\"\"\n",
    "    SELECT \n",
    "        rolname,\n",
    "        rolsuper,\n",
    "        rolcreaterole,\n",
    "        rolcreatedb,\n",
    "        rolcanlogin\n",
    "    FROM pg_roles\n",
    "    WHERE rolname IN ('readonly', 'readwrite', 'data_analyst', 'data_scientist')\n",
    "\"\"\", conn)\n",
    "\n",
    "pg_roles_df"
   ]
  },
  {
   "cell_type": "code",
   "execution_count": 33,
   "metadata": {
    "collapsed": false,
    "jupyter": {
     "outputs_hidden": false
    }
   },
   "outputs": [
    {
     "data": {
      "text/html": [
       "<div>\n",
       "<style scoped>\n",
       "    .dataframe tbody tr th:only-of-type {\n",
       "        vertical-align: middle;\n",
       "    }\n",
       "\n",
       "    .dataframe tbody tr th {\n",
       "        vertical-align: top;\n",
       "    }\n",
       "\n",
       "    .dataframe thead th {\n",
       "        text-align: right;\n",
       "    }\n",
       "</style>\n",
       "<table border=\"1\" class=\"dataframe\">\n",
       "  <thead>\n",
       "    <tr style=\"text-align: right;\">\n",
       "      <th></th>\n",
       "      <th>grantee</th>\n",
       "      <th>privilege_type</th>\n",
       "    </tr>\n",
       "  </thead>\n",
       "  <tbody>\n",
       "    <tr>\n",
       "      <th>0</th>\n",
       "      <td>readonly</td>\n",
       "      <td>SELECT</td>\n",
       "    </tr>\n",
       "    <tr>\n",
       "      <th>1</th>\n",
       "      <td>readwrite</td>\n",
       "      <td>INSERT</td>\n",
       "    </tr>\n",
       "    <tr>\n",
       "      <th>2</th>\n",
       "      <td>readwrite</td>\n",
       "      <td>SELECT</td>\n",
       "    </tr>\n",
       "    <tr>\n",
       "      <th>3</th>\n",
       "      <td>readwrite</td>\n",
       "      <td>UPDATE</td>\n",
       "    </tr>\n",
       "    <tr>\n",
       "      <th>4</th>\n",
       "      <td>readwrite</td>\n",
       "      <td>DELETE</td>\n",
       "    </tr>\n",
       "  </tbody>\n",
       "</table>\n",
       "</div>"
      ],
      "text/plain": [
       "     grantee privilege_type\n",
       "0   readonly         SELECT\n",
       "1  readwrite         INSERT\n",
       "2  readwrite         SELECT\n",
       "3  readwrite         UPDATE\n",
       "4  readwrite         DELETE"
      ]
     },
     "execution_count": 33,
     "metadata": {},
     "output_type": "execute_result"
    }
   ],
   "source": [
    "conn = psycopg2.connect(dbname = 'crime_db', user = 'postgres', password = '123456789')\n",
    "cur = conn.cursor()\n",
    "\n",
    "info_schema_privileges = pd.read_sql(\"\"\"\n",
    "    SELECT \n",
    "        grantee,\n",
    "        privilege_type\n",
    "    FROM information_schema.table_privileges\n",
    "    WHERE grantee IN ('readonly', 'readwrite')\n",
    "\"\"\", conn)\n",
    "\n",
    "info_schema_privileges"
   ]
  },
  {
   "cell_type": "markdown",
   "metadata": {},
   "source": [
    "As shown by the table above, readonly can only use the SELECT statement while the readwrite can SELECT, INSERT, UPDATE and DELETE."
   ]
  }
 ],
 "metadata": {
  "kernelspec": {
   "display_name": "Python 3",
   "language": "python",
   "name": "python3"
  },
  "language_info": {
   "codemirror_mode": {
    "name": "ipython",
    "version": 3
   },
   "file_extension": ".py",
   "mimetype": "text/x-python",
   "name": "python",
   "nbconvert_exporter": "python",
   "pygments_lexer": "ipython3",
   "version": "3.8.5"
  }
 },
 "nbformat": 4,
 "nbformat_minor": 4
}
